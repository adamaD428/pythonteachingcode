{
 "cells": [
  {
   "cell_type": "markdown",
   "metadata": {
    "collapsed": true
   },
   "source": [
    "#  Module 1 Required Coding Activity  \n",
    "Work through the Module 1 Tutorials and Practices prior to attempting this activity.\n",
    "Notice that this activity is logically very similar to the Allergy Check activity in the practice module.\n",
    "Remmeber, you are not allowed to work with others on this code or post it in Teams for help.\n",
    "You can ask related questions about the practice module.\n",
    "\n",
    "> **NOTE:** This program requires print output and code syntax used in module 1\n",
    "\n",
    "| Some Assignment Requirements |  \n",
    "|:-------------------------------|  \n",
    "| **NOTE:** This program requires `print` output and using code syntax used in module 1 such as variable assignment, `input`, `in` keyword, `.lower()` or `.upper()` method  |  \n",
    "\n",
    "\n",
    "## Program: Name Check  \n",
    "\n",
    "1. **[ ]** get user **`input`** for names of people met in the last 24 hours  \n",
    " save in a variable called **input_test**  \n",
    "2. **[ ]** print **`True`** if \"John\" is in the **input_test** string  \n",
    "3. **[ ]** Test the code so far  \n",
    "4. **[ ]** repeat the process checking the input for your name, \n",
    "5. **[ ] challenge:** add two more names \n",
    "5. **[ ]** Test your code  \n",
    "6. **[ ] challenge:** make your code work for input regardless of case, e.g. - print **`True`** for \"mary\", \"Mary\", \"MARY\" or \"MaRy\"  \n"
   ]
  },
  {
   "cell_type": "code",
   "execution_count": 2,
   "metadata": {},
   "outputs": [
    {
     "name": "stdout",
     "output_type": "stream",
     "text": [
      "Please enter names of people met in the last 24 hours: John, Larry, Mary, Alex\n",
      "True\n",
      "please enter your name: Adama\n",
      "True\n",
      "Please enter 2 names: Gary, Max\n",
      "True\n",
      "False\n",
      "True\n"
     ]
    }
   ],
   "source": [
    "# Create name check code\n",
    "# [ ] get input for input_test variable\n",
    "input_test = input(\"Please enter names of people met in the last 24 hours: \")\n",
    "\n",
    "# [ ] print \"True\" message if \"John\" is in the input or False message if not\n",
    "print(\"John\" in input_test)\n",
    "\n",
    "# [ ] print True message if your name is in the input or False if not\n",
    "input_your_name = input(\"please enter your name: \")\n",
    "input_test_2 = input_test + input_your_name\n",
    "\n",
    "print(\"Adama\" in input_test_2)\n",
    "\n",
    "# [ ] Challenge: Check if another person's name is in the input - print message\n",
    "add_names = input(\"Please enter 2 names: \")\n",
    "input_names = input_test_2 + add_names\n",
    "\n",
    "print(\"Gary\" in input_names)\n",
    "\n",
    "# [ ] Challenge: Check if a fourth person's name is in the input - print message\n",
    "print(\"Laura\" in input_names)\n",
    "     \n",
    "print(\"Mary\".lower() in input_names.lower())"
   ]
  },
  {
   "cell_type": "markdown",
   "metadata": {},
   "source": [
    "When finished and tested, copy your code to the clipboard on your computer. Then, create a python file (.py) in Visual Studio Code by selecting New File and saving the file with a .py extension. Then, paste in your code and test it. Finally, save the file and upload it to D2L to submit. Be sure to test that it works. Use this same process for all Required Code Activities."
   ]
  }
 ],
 "metadata": {
  "kernelspec": {
   "display_name": "Python 3 (ipykernel)",
   "language": "python",
   "name": "python3"
  },
  "language_info": {
   "codemirror_mode": {
    "name": "ipython",
    "version": 3
   },
   "file_extension": ".py",
   "mimetype": "text/x-python",
   "name": "python",
   "nbconvert_exporter": "python",
   "pygments_lexer": "ipython3",
   "version": "3.11.5"
  }
 },
 "nbformat": 4,
 "nbformat_minor": 1
}
