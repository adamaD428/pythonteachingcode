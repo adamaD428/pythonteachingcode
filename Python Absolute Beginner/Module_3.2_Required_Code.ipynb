{
 "cells": [
  {
   "cell_type": "markdown",
   "metadata": {
    "collapsed": true
   },
   "source": [
    "#  Module 3 Required Coding Activity  \n",
    "Introduction to Python Unit 1 \n",
    "\n",
    "This is an activity based on code similar to the Jupyter Notebook **`Practice_MOD03_1-4_IntroPy.ipynb`** and **`Practice_MOD03_1-5_IntroPy.ipynb`** which you may have completed as practice.\n",
    "\n",
    ">This program requires the use of **`if, elif, else`**, and casting between strings and numbers. The program should use the various code syntax covered in module 3.  \n",
    "> \n",
    ">The program must result in print output using numeric input similar to that shown in the sample below.\n",
    ">You must include your full name in the input prompt. See sample input below for more detail.\n",
    "\n",
    "## Program: Cheese Order Function   \n",
    "- define function with max, min, price, and order_amount parameters\n",
    "- set default values for maximum and minimum order parameters  \n",
    "- set default value for price parameter\n",
    "- cast order_amount and other arguments to numbers  \n",
    "- check order_amount and give message checking against  \n",
    "  - over maximum\n",
    "  - under minimum\n",
    "- else within maximum and minimum give message with calculated price \n",
    "- call your function using order weight input from user\n",
    "\n",
    "\n",
    "Sample input and output:\n",
    "```\n",
    "[YOUR FULL NAME GOES HERE], enter cheese order weight (numeric value): 113\n",
    "113.0 is more than currently available stock\n",
    "```\n",
    "\n",
    "```\n",
    "[YOUR FULL NAME GOES HERE], enter cheese order weight (numeric value): .15\n",
    "0.15 is below minimum order amount\n",
    "```  \n",
    "\n",
    "```\n",
    "[YOUR FULL NAME GOES HERE], enter cheese order weight (numeric value): 2\n",
    "2.0 costs $15.98\n",
    "```  "
   ]
  },
  {
   "cell_type": "code",
   "execution_count": 10,
   "metadata": {},
   "outputs": [
    {
     "name": "stdout",
     "output_type": "stream",
     "text": [
      "enter your order weight: 6\n",
      "enter order amount: 3\n",
      "Adama Diallo  your cost is:  $ 17.97\n"
     ]
    }
   ],
   "source": [
    "# [ ] create fucntion, call and test \n",
    "def cheese_order_price(order_amount, order_max = 10.0, order_min = 2.0, price_unit = 5.99):\n",
    "    order_max = float(order_max)\n",
    "    order_min = float(order_min)\n",
    "    price_unit = float(price_unit)\n",
    "    order_amount = float(input(\"enter order amount: \"))\n",
    "\n",
    "    if order_amount > order_max:\n",
    "        print(\"Adama Diallo \", \"your order of 12.0 is more than currently available stock\")\n",
    "    elif order_amount < order_min:\n",
    "        print(\"Adama Diallo \", \"your order of 1.0 is below minimun order amount\")\n",
    "    else:\n",
    "        total_cost = order_amount * price_unit\n",
    "        print(\"Adama Diallo \", \"your cost is: \", \"$\",total_cost)\n",
    "        \n",
    "order_weight = input(\"enter your order weight: \")\n",
    "cheese_order_price(order_weight) \n"
   ]
  },
  {
   "cell_type": "markdown",
   "metadata": {},
   "source": [
    "Submit this by creating a python file (.py) and submitting it in D2L. Be sure to test that it works."
   ]
  }
 ],
 "metadata": {
  "kernelspec": {
   "display_name": "Python 3 (ipykernel)",
   "language": "python",
   "name": "python3"
  },
  "language_info": {
   "codemirror_mode": {
    "name": "ipython",
    "version": 3
   },
   "file_extension": ".py",
   "mimetype": "text/x-python",
   "name": "python",
   "nbconvert_exporter": "python",
   "pygments_lexer": "ipython3",
   "version": "3.11.5"
  }
 },
 "nbformat": 4,
 "nbformat_minor": 1
}
