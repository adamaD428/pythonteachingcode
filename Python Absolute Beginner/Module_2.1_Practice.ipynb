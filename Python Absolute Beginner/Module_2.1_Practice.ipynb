{
 "cells": [
  {
   "cell_type": "markdown",
   "metadata": {},
   "source": [
    "# Module 2 Practice\n",
    "## Functions Arguments & Parameters\n",
    "<font size=\"5\" color=\"#00A0B2\"  face=\"verdana\"> <B>Student will be able to</B></font>  \n",
    "- **create functions with a parameter**  \n",
    "- **create functions with a `return` value** \n",
    "- **create functions with multiple parameters**\n",
    "- **use knowledge of sequence in coding tasks**  \n",
    "- **use coding best practices** "
   ]
  },
  {
   "cell_type": "markdown",
   "metadata": {},
   "source": [
    "## &nbsp;\n",
    "<font size=\"6\" color=\"#B24C00\"  face=\"verdana\"> <B>Tasks</B></font>"
   ]
  },
  {
   "cell_type": "code",
   "execution_count": 1,
   "metadata": {},
   "outputs": [
    {
     "name": "stdout",
     "output_type": "stream",
     "text": [
      "Rhyme: [1st]Do Your Best, [2nd] Forget The Rest\n"
     ]
    }
   ],
   "source": [
    "# [ ] define and call a function short_rhyme() that prints a 2 line rhyme\n",
    "def short_rhyme(line1, line2):\n",
    "    rhyme = (\"[1st]\" + line1.title() + \", [2nd] \" + line2.title())\n",
    "    return rhyme\n",
    "line_rhyme = short_rhyme(\"do your best\", \"forget the rest\")\n",
    "print(\"Rhyme:\", line_rhyme)\n"
   ]
  },
  {
   "cell_type": "code",
   "execution_count": 2,
   "metadata": {},
   "outputs": [
    {
     "name": "stdout",
     "output_type": "stream",
     "text": [
      "My Fall Classes\n"
     ]
    }
   ],
   "source": [
    "# [ ] define (def) a simple function: title_it() and call the function\n",
    "def title_it(msg):\n",
    "    text_msg = msg\n",
    "    return text_msg\n",
    "\n",
    "# - has a string parameter: msg\n",
    "msg = \"My fall classes\"\n",
    "# - prints msg in Title Case\n",
    "print(title_it (msg.title()))\n"
   ]
  },
  {
   "cell_type": "code",
   "execution_count": 3,
   "metadata": {},
   "outputs": [
    {
     "name": "stdout",
     "output_type": "stream",
     "text": [
      "what is the title: the notebook\n",
      "The Notebook\n"
     ]
    }
   ],
   "source": [
    "# [ ] get user input with prompt \"what is the title?\" \n",
    "# [ ] call title_it() using input for the string argument\n",
    "title_it = input(\"what is the title: \")\n",
    "print(title_it.title())\n"
   ]
  },
  {
   "cell_type": "code",
   "execution_count": 4,
   "metadata": {},
   "outputs": [
    {
     "name": "stdout",
     "output_type": "stream",
     "text": [
      "give me the title of the book: the new captain\n",
      "The New Captain\n"
     ]
    }
   ],
   "source": [
    "# [ ] define title_it_rtn() which returns a titled string instead of printing\n",
    "def title_it_rtn(title):\n",
    "    book_title(title)\n",
    "    return(book_title)\n",
    "# [ ] call title_it_rtn() using input for the string argumetnt and print the result\n",
    "\n",
    "title = input(\"give me the title of the book: \")\n",
    "print(title.title())"
   ]
  },
  {
   "cell_type": "markdown",
   "metadata": {},
   "source": [
    "## Program: bookstore()\n",
    "create and test bookstore()\n",
    "- **bookstore() takes 2 string arguments: book & price**\n",
    "- **bookstore returns a string in sentence form** \n",
    "- **bookstore() should call title_it_rtn()** with book parameter  \n",
    "- **gather input for book_entry and price_entry to use in calling bookstore()**\n",
    "- **print the return value of bookstore()**\n",
    ">example of output: **`Title: The Adventures Of Sherlock Holmes, costs $12.99`**"
   ]
  },
  {
   "cell_type": "code",
   "execution_count": 10,
   "metadata": {},
   "outputs": [
    {
     "name": "stdout",
     "output_type": "stream",
     "text": [
      "enter book title: the adventures of sherlock holmes,\n",
      "enter price: $12.99\n",
      "Title:  The Adventures Of Sherlock Holmes, costs  $12.99\n",
      "\n",
      "enter title of the book: the adventures of sherlock holmes,\n",
      "enter the price: $12.99\n",
      "Title:  The Adventures Of Sherlock Holmes, costs  $12.99\n"
     ]
    }
   ],
   "source": [
    "# [ ] create, call and test bookstore() function\n",
    "def bookstore(book, price):\n",
    "    book_purchased = book + \" \" + price\n",
    "    return book_purchase\n",
    "book = input(\"enter book title: \")\n",
    "price =input(\"enter price: \")\n",
    "print(\"Title: \", book.title(), \"costs \", price)\n",
    "\n",
    "print()\n",
    "\n",
    "def title_it_rtn(book, price):\n",
    "    book_purchase = book_entry + \" \" + price_entry\n",
    "    return book_purchase\n",
    "book_entry = input(\"enter title of the book: \")\n",
    "price_entry = input(\"enter the price: \")\n",
    "print(\"Title: \", book_entry.title(), \"costs \", price_entry)\n"
   ]
  },
  {
   "cell_type": "markdown",
   "metadata": {},
   "source": [
    "### Fix the error"
   ]
  },
  {
   "cell_type": "code",
   "execution_count": 9,
   "metadata": {},
   "outputs": [
    {
     "name": "stdout",
     "output_type": "stream",
     "text": [
      "enter a name: Adama Diallo\n",
      "enter greeting: Hello\n",
      "('Hello', 'Adama Diallo')\n"
     ]
    }
   ],
   "source": [
    "# for this 1st def, greeting is already provided. So no need to get greeting.\n",
    "def make_greeting(name, greeting = \"Hello\"):\n",
    "    return (greeting,name)\n",
    "\n",
    "def get_name():\n",
    "    name_entry = input(\"enter a name: \")\n",
    "    return name_entry\n",
    "   \n",
    "def get_greeting():\n",
    "    greeting_entry = input(\"enter greeting: \")\n",
    "    return greeting_entry\n",
    "   \n",
    "# get name and greeting, send to make_greeting \n",
    "name = get_name()\n",
    "greeting = get_greeting()    \n",
    "print(make_greeting(name, greeting))\n"
   ]
  },
  {
   "cell_type": "markdown",
   "metadata": {},
   "source": [
    "\n",
    "[Terms of use](http://go.microsoft.com/fwlink/?LinkID=206977) &nbsp; [Privacy & cookies](https://go.microsoft.com/fwlink/?LinkId=521839) &nbsp; © 2017 Microsoft"
   ]
  }
 ],
 "metadata": {
  "anaconda-cloud": {},
  "kernelspec": {
   "display_name": "Python 3 (ipykernel)",
   "language": "python",
   "name": "python3"
  },
  "language_info": {
   "codemirror_mode": {
    "name": "ipython",
    "version": 3
   },
   "file_extension": ".py",
   "mimetype": "text/x-python",
   "name": "python",
   "nbconvert_exporter": "python",
   "pygments_lexer": "ipython3",
   "version": "3.11.5"
  }
 },
 "nbformat": 4,
 "nbformat_minor": 1
}
